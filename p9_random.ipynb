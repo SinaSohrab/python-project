{
 "cells": [
  {
   "cell_type": "code",
   "execution_count": 87,
   "metadata": {},
   "outputs": [],
   "source": [
    "import random"
   ]
  },
  {
   "cell_type": "code",
   "execution_count": 60,
   "metadata": {},
   "outputs": [
    {
     "name": "stdout",
     "output_type": "stream",
     "text": [
      "0\n",
      "3\n",
      "6\n",
      "5\n",
      "1\n",
      "4\n",
      "7\n",
      "9\n",
      "4\n",
      "8\n"
     ]
    }
   ],
   "source": [
    "random.seed()\n",
    "for i in range(0,10):\n",
    "    print(random.randrange(0, 10))"
   ]
  },
  {
   "cell_type": "code",
   "execution_count": 86,
   "metadata": {},
   "outputs": [
    {
     "name": "stdout",
     "output_type": "stream",
     "text": [
      "[0, 0, 0, 0, 373, 0, 168, 0, 0, 459]\n"
     ]
    }
   ],
   "source": [
    "pepole = []\n",
    "for i in range(0, 10):\n",
    "    pepole.append(100)\n",
    "\n",
    "for beshkan in range(0, 100000):\n",
    "    for person1 in range(0, 10):\n",
    "        person2 = random.randrange(0, 10)\n",
    "        while pepole[person2] == 0:\n",
    "            person2 = random.randrange(0, 10)\n",
    "\n",
    "        if pepole[person1] != 0:\n",
    "            pepole[person1] = pepole[person1] - 1\n",
    "            pepole[person2] = pepole[person2] + 1\n",
    "\n",
    "print(pepole)"
   ]
  },
  {
   "cell_type": "code",
   "execution_count": null,
   "metadata": {},
   "outputs": [],
   "source": []
  }
 ],
 "metadata": {
  "kernelspec": {
   "display_name": "Python 3",
   "language": "python",
   "name": "python3"
  },
  "language_info": {
   "codemirror_mode": {
    "name": "ipython",
    "version": 3
   },
   "file_extension": ".py",
   "mimetype": "text/x-python",
   "name": "python",
   "nbconvert_exporter": "python",
   "pygments_lexer": "ipython3",
   "version": "3.10.6"
  },
  "orig_nbformat": 4
 },
 "nbformat": 4,
 "nbformat_minor": 2
}
